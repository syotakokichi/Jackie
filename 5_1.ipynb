{
  "nbformat": 4,
  "nbformat_minor": 0,
  "metadata": {
    "colab": {
      "provenance": [],
      "authorship_tag": "ABX9TyMSXV01ZGb+FGPBM2AO92VP",
      "include_colab_link": true
    },
    "kernelspec": {
      "name": "python3",
      "display_name": "Python 3"
    },
    "language_info": {
      "name": "python"
    }
  },
  "cells": [
    {
      "cell_type": "markdown",
      "metadata": {
        "id": "view-in-github",
        "colab_type": "text"
      },
      "source": [
        "<a href=\"https://colab.research.google.com/github/syotakokichi/Jackie/blob/Python/5_1.ipynb\" target=\"_parent\"><img src=\"https://colab.research.google.com/assets/colab-badge.svg\" alt=\"Open In Colab\"/></a>"
      ]
    },
    {
      "cell_type": "code",
      "execution_count": 1,
      "metadata": {
        "colab": {
          "base_uri": "https://localhost:8080/"
        },
        "id": "GroDNrcNWSe7",
        "outputId": "9b0e4a60-7b85-4555-bcd3-7fdc58ae273a"
      },
      "outputs": [
        {
          "output_type": "stream",
          "name": "stdout",
          "text": [
            "1.4142135623730951\n",
            "3.141592653589793\n",
            "0.7071067811865475\n",
            "1.0\n",
            "5.0\n"
          ]
        }
      ],
      "source": [
        "import math# importは大抵セルの一番上に記述します\n",
        "print(math.sqrt(2)) # sqrt は平方根を計算する関数\n",
        "print(math.pi) # πの値\n",
        "print(math.sin(math.pi/4)) # sin関数\n",
        "print(math.cos(0)) # cos関数\n",
        "print(math.log(32,2)) # 2を底とする32の対数（texで記述すると、$\\log_2 32$）"
      ]
    },
    {
      "cell_type": "code",
      "source": [
        "math.pi"
      ],
      "metadata": {
        "colab": {
          "base_uri": "https://localhost:8080/"
        },
        "id": "R5E3U5VuWYTj",
        "outputId": "a217b80e-e58d-453d-fd27-f23bd6ab20d0"
      },
      "execution_count": 2,
      "outputs": [
        {
          "output_type": "execute_result",
          "data": {
            "text/plain": [
              "3.141592653589793"
            ]
          },
          "metadata": {},
          "execution_count": 2
        }
      ]
    },
    {
      "cell_type": "code",
      "source": [
        "from math import sqrt\n",
        "print(sqrt(2)) # sqrt は平方根を計算する関数\n",
        "from math import pi\n",
        "print(pi) # πの値\n",
        "from math import sin\n",
        "print(sin(math.pi/4)) # sin関数\n",
        "from math import cos\n",
        "print(cos(0)) # cos関数\n",
        "from math import log\n",
        "print(log(32,2)) # 2を底とする32の対数（texで記述すると、$\\log_2 32$）"
      ],
      "metadata": {
        "colab": {
          "base_uri": "https://localhost:8080/"
        },
        "id": "YmUfaQHAWdUW",
        "outputId": "8568e9ee-2085-4621-bd93-e8e304b321f6"
      },
      "execution_count": 3,
      "outputs": [
        {
          "output_type": "stream",
          "name": "stdout",
          "text": [
            "1.4142135623730951\n",
            "3.141592653589793\n",
            "0.7071067811865475\n",
            "1.0\n",
            "5.0\n"
          ]
        }
      ]
    },
    {
      "cell_type": "code",
      "source": [
        "from math import *"
      ],
      "metadata": {
        "id": "pwIg_YchWg8E"
      },
      "execution_count": 4,
      "outputs": []
    },
    {
      "cell_type": "code",
      "source": [
        "from math import *\n",
        "print(factorial(5)) # 5 の階乗 # import mathを使う場合、math.factorial(5)\n",
        "print(floor(2.31)) # 2.31以下の最大の整数  # import mathを使う場合、math.floor(2.31)\n",
        "print(e) # ネイピア数 # import mathを使う場合、math.e"
      ],
      "metadata": {
        "colab": {
          "base_uri": "https://localhost:8080/"
        },
        "id": "V-ZD-j2MWkkV",
        "outputId": "c70024ae-a2ae-4cef-9ad9-7ea831ad094b"
      },
      "execution_count": 5,
      "outputs": [
        {
          "output_type": "stream",
          "name": "stdout",
          "text": [
            "120\n",
            "2\n",
            "2.718281828459045\n"
          ]
        }
      ]
    },
    {
      "cell_type": "code",
      "source": [
        "import numpy\n",
        "print(numpy.ones((3, 5))) # 3×5の行列を表示\n",
        "import numpy as np\n",
        "print(np.ones((3, 5))) # np という短い名称で同じ関数を利用する"
      ],
      "metadata": {
        "colab": {
          "base_uri": "https://localhost:8080/"
        },
        "id": "lqTovTqwW1qb",
        "outputId": "8d6991c8-631f-466c-9cd1-c88f57acce1e"
      },
      "execution_count": 6,
      "outputs": [
        {
          "output_type": "stream",
          "name": "stdout",
          "text": [
            "[[1. 1. 1. 1. 1.]\n",
            " [1. 1. 1. 1. 1.]\n",
            " [1. 1. 1. 1. 1.]]\n",
            "[[1. 1. 1. 1. 1.]\n",
            " [1. 1. 1. 1. 1.]\n",
            " [1. 1. 1. 1. 1.]]\n"
          ]
        }
      ]
    },
    {
      "cell_type": "code",
      "source": [
        "import math\n",
        "print(math.factorial(5)) # 階乗を求める関数factorial # 5の階乗\n",
        "from math import factorial as fact # fact という名前でmath.factorialを使用したい\n",
        "print(fact(5))"
      ],
      "metadata": {
        "colab": {
          "base_uri": "https://localhost:8080/"
        },
        "id": "veisToIuXAal",
        "outputId": "6cfeea76-865b-4920-b35e-bf00280bdc80"
      },
      "execution_count": 7,
      "outputs": [
        {
          "output_type": "stream",
          "name": "stdout",
          "text": [
            "120\n",
            "120\n"
          ]
        }
      ]
    },
    {
      "cell_type": "code",
      "source": [
        "import math\n",
        "print(math.sqrt(2))\n",
        "print(math.sin(math.pi))"
      ],
      "metadata": {
        "colab": {
          "base_uri": "https://localhost:8080/"
        },
        "id": "zw8ere91XFJk",
        "outputId": "ee17cdf5-a320-4946-eddf-72a4e59eb2a3"
      },
      "execution_count": 8,
      "outputs": [
        {
          "output_type": "stream",
          "name": "stdout",
          "text": [
            "1.4142135623730951\n",
            "1.2246467991473532e-16\n"
          ]
        }
      ]
    },
    {
      "cell_type": "code",
      "source": [
        "print(sqrt(2))\n",
        "print(sin(pi))"
      ],
      "metadata": {
        "colab": {
          "base_uri": "https://localhost:8080/"
        },
        "id": "xyR4ZckHXIVk",
        "outputId": "da3f6592-e744-4e5f-8077-93f80f93c338"
      },
      "execution_count": 9,
      "outputs": [
        {
          "output_type": "stream",
          "name": "stdout",
          "text": [
            "1.4142135623730951\n",
            "1.2246467991473532e-16\n"
          ]
        }
      ]
    },
    {
      "cell_type": "code",
      "source": [
        "import\n",
        "print(sqrt(2))\n",
        "print(sin(pi))"
      ],
      "metadata": {
        "colab": {
          "base_uri": "https://localhost:8080/",
          "height": 108
        },
        "id": "3m2o2WjZXPpT",
        "outputId": "a63d2d18-8fef-43b2-c930-95c6cdb8e149"
      },
      "execution_count": 10,
      "outputs": [
        {
          "output_type": "error",
          "ename": "SyntaxError",
          "evalue": "invalid syntax (<ipython-input-10-60c6e0f97faa>, line 1)",
          "traceback": [
            "\u001b[0;36m  File \u001b[0;32m\"<ipython-input-10-60c6e0f97faa>\"\u001b[0;36m, line \u001b[0;32m1\u001b[0m\n\u001b[0;31m    import\u001b[0m\n\u001b[0m          ^\u001b[0m\n\u001b[0;31mSyntaxError\u001b[0m\u001b[0;31m:\u001b[0m invalid syntax\n"
          ]
        }
      ]
    },
    {
      "cell_type": "code",
      "source": [
        "from math import sqrt, sin, pi\n",
        "print(sqrt(2))\n",
        "print(sin(pi))"
      ],
      "metadata": {
        "colab": {
          "base_uri": "https://localhost:8080/"
        },
        "id": "5dI5vOSSXSSq",
        "outputId": "c1329149-f006-4ce5-abb6-27bd381dd74c"
      },
      "execution_count": 11,
      "outputs": [
        {
          "output_type": "stream",
          "name": "stdout",
          "text": [
            "1.4142135623730951\n",
            "1.2246467991473532e-16\n"
          ]
        }
      ]
    },
    {
      "cell_type": "code",
      "source": [],
      "metadata": {
        "id": "D-eNa-sGXVpy"
      },
      "execution_count": null,
      "outputs": []
    }
  ]
}